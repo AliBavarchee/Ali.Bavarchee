{
 "cells": [
  {
   "cell_type": "markdown",
   "metadata": {},
   "source": [
    "1\\. Write the following as a list comprehension"
   ]
  },
  {
   "cell_type": "code",
   "execution_count": 1,
   "metadata": {},
   "outputs": [
    {
     "name": "stdout",
     "output_type": "stream",
     "text": [
      "[(0, 0), (0, 1), (0, 2), (0, 3), (1, 0), (1, 1), (1, 2), (1, 3), (2, 0), (2, 1), (2, 2), (2, 3)]\n",
      "[0, 4, 16]\n"
     ]
    }
   ],
   "source": [
    "# 1\n",
    "ans = []\n",
    "for i in range(3):\n",
    "    for j in range(4):\n",
    "        ans.append((i, j))\n",
    "print (ans)\n",
    "\n",
    "# 2\n",
    "ans = map(lambda x: x*x, filter(lambda x: x%2 == 0, range(5)))\n",
    "print (list(ans))\n",
    "\n"
   ]
  },
  {
   "cell_type": "code",
   "execution_count": 2,
   "metadata": {},
   "outputs": [
    {
     "name": "stdout",
     "output_type": "stream",
     "text": [
      "[(0, 0), (0, 1), (0, 2), (0, 3), (1, 0), (1, 1), (1, 2), (1, 3), (2, 0), (2, 1), (2, 2), (2, 3)]\n",
      "[0, 4, 16]\n",
      "[(0, 0), (0, 1), (0, 2), (0, 3), (1, 0), (1, 1), (1, 2), (1, 3), (2, 0), (2, 1), (2, 2), (2, 3), [0, 4, 16]]\n"
     ]
    }
   ],
   "source": [
    "# 1\n",
    "ans = [(i, j) for i in range(3) for j in range(4)]\n",
    "\n",
    "print(ans)\n",
    "\n",
    "# 2\n",
    "ad =  [x*x for x in range(5) if x % 2 == 0]\n",
    "print(ad)\n",
    "ans.append(ad)\n",
    "print(ans)"
   ]
  },
  {
   "cell_type": "markdown",
   "metadata": {},
   "source": [
    "2\\. Convert the following function into a pure function with no global variables or side effects"
   ]
  },
  {
   "cell_type": "code",
   "execution_count": 3,
   "metadata": {},
   "outputs": [
    {
     "name": "stdout",
     "output_type": "stream",
     "text": [
      "[1, 2, 3, 0, 1, 2, 3, 4]\n",
      "[1, 2, 3, 0, 1, 2, 3, 4]\n"
     ]
    }
   ],
   "source": [
    "x = 5\n",
    "def f(alist):\n",
    "    for i in range(x):\n",
    "         alist.append(i)\n",
    "    return alist\n",
    "\n",
    "alist = [1,2,3]\n",
    "ans = f(alist)\n",
    "print (ans)\n",
    "print (alist) # alist has been changed!"
   ]
  },
  {
   "cell_type": "code",
   "execution_count": 4,
   "metadata": {},
   "outputs": [
    {
     "name": "stdout",
     "output_type": "stream",
     "text": [
      "[1, 2, 3, 0, 1, 2, 3, 4]\n",
      "[1, 2, 3, 0, 1, 2, 3, 4]\n"
     ]
    }
   ],
   "source": [
    "x = 5\n",
    "def f(alist):\n",
    "    alist = [1,2,3]\n",
    "    for i in range(x):\n",
    "         alist.append(i)\n",
    "            \n",
    "    \n",
    "    \n",
    "    return alist\n",
    "\n",
    "\n",
    "ans = f(alist)\n",
    "print (ans)\n",
    "print (alist)"
   ]
  },
  {
   "cell_type": "code",
   "execution_count": 5,
   "metadata": {},
   "outputs": [
    {
     "name": "stdout",
     "output_type": "stream",
     "text": [
      "[1, 2, 3, 0, 1, 2, 3, 4]\n"
     ]
    }
   ],
   "source": [
    "print (ans)"
   ]
  },
  {
   "cell_type": "markdown",
   "metadata": {},
   "source": [
    "3\\. Write a `decorator` hello that makes every wrapped function print “Hello!”, i.e. something like:\n",
    "\n",
    "```python\n",
    "@hello\n",
    "def square(x):\n",
    "    return x*x\n",
    "```\n",
    "\n"
   ]
  },
  {
   "cell_type": "code",
   "execution_count": 6,
   "metadata": {},
   "outputs": [
    {
     "name": "stdout",
     "output_type": "stream",
     "text": [
      "Hello!\n",
      "Hello!\n",
      "Yellow!\n",
      "Bye!\n",
      "Bye!\n"
     ]
    }
   ],
   "source": [
    "def my_decorator(func):\n",
    "    def wrapper():\n",
    "        print(\"Hello!\")\n",
    "        func()\n",
    "        print(\"Bye!\")\n",
    "    return wrapper\n",
    "\n",
    "@my_decorator\n",
    "def say_Hello():\n",
    "    print(\"Yellow!\")\n",
    "say_Hello = my_decorator(say_Hello)\n",
    "\n",
    "say_Hello\n",
    "say_Hello()"
   ]
  },
  {
   "cell_type": "markdown",
   "metadata": {},
   "source": [
    "4\\. Write the factorial function so that it a) does and b) does not use recursion."
   ]
  },
  {
   "cell_type": "code",
   "execution_count": 7,
   "metadata": {},
   "outputs": [
    {
     "name": "stdout",
     "output_type": "stream",
     "text": [
      "[1, 1, 2, 6, 24]\n"
     ]
    }
   ],
   "source": [
    "# NOT recursion\n",
    "import math\n",
    "def j0(n):\n",
    "    \n",
    "    if n==0 or n==1:\n",
    "        return 1\n",
    "    \n",
    "    else:\n",
    "        return n * j0(n-1)\n",
    "\n",
    "    \n",
    "print ([j0(i) for i in range(5)])"
   ]
  },
  {
   "cell_type": "code",
   "execution_count": 8,
   "metadata": {},
   "outputs": [
    {
     "name": "stdout",
     "output_type": "stream",
     "text": [
      "[1, 1, 2, 6, 24]\n"
     ]
    }
   ],
   "source": [
    "# recursion\n",
    "\n",
    "def j0(n):\n",
    "    x = 1\n",
    "    for y in range(1, n+1):\n",
    "        x *= y\n",
    "    return x\n",
    "\n",
    "print ([j0(i) for i in range(5)])"
   ]
  },
  {
   "cell_type": "markdown",
   "metadata": {},
   "source": [
    "5\\. Use HOFs (zip in particular) to compute the weight of a circle, a disk and a sphere, assuming different radii and different densities:\n",
    "\n",
    "```python\n",
    "densities = {\"Al\":[0.5,1,2],\"Fe\":[3,4,5],\"Pb\": [15,20,30]}\n",
    "radii = [1,2,3]\n",
    "```\n",
    "\n",
    "where the entries of the dictionary's values are the linear, superficial and volumetric densities of the materials respectively.\n",
    "\n",
    "In particular define a list of three lambda functions using a comprehension that computes the circumference, the area and the volume for a given radius.\n"
   ]
  },
  {
   "cell_type": "code",
   "execution_count": 9,
   "metadata": {},
   "outputs": [
    {
     "name": "stdout",
     "output_type": "stream",
     "text": [
      "radius:  1 density: 0.5 volume:   6.28 tot. weight:   3.14 \n",
      "radius:  1 density: 1.0 volume:   3.14 tot. weight:   3.14 \n",
      "radius:  1 density: 2.0 volume:   4.19 tot. weight:   8.38 \n",
      "radius:  1 density: 3.0 volume:   6.28 tot. weight:  18.85 \n",
      "radius:  1 density: 4.0 volume:   3.14 tot. weight:  12.57 \n",
      "radius:  1 density: 5.0 volume:   4.19 tot. weight:  20.94 \n",
      "radius:  1 density: 15.0 volume:   6.28 tot. weight:  94.25 \n",
      "radius:  1 density: 20.0 volume:   3.14 tot. weight:  62.83 \n",
      "radius:  1 density: 30.0 volume:   4.19 tot. weight: 125.66 \n",
      "radius:  2 density: 0.5 volume:  12.57 tot. weight:   6.28 \n",
      "radius:  2 density: 1.0 volume:  12.57 tot. weight:  12.57 \n",
      "radius:  2 density: 2.0 volume:  33.51 tot. weight:  67.02 \n",
      "radius:  2 density: 3.0 volume:  12.57 tot. weight:  37.70 \n",
      "radius:  2 density: 4.0 volume:  12.57 tot. weight:  50.27 \n",
      "radius:  2 density: 5.0 volume:  33.51 tot. weight: 167.55 \n",
      "radius:  2 density: 15.0 volume:  12.57 tot. weight: 188.50 \n",
      "radius:  2 density: 20.0 volume:  12.57 tot. weight: 251.33 \n",
      "radius:  2 density: 30.0 volume:  33.51 tot. weight: 1005.31 \n",
      "radius:  3 density: 0.5 volume:  18.85 tot. weight:   9.42 \n",
      "radius:  3 density: 1.0 volume:  28.27 tot. weight:  28.27 \n",
      "radius:  3 density: 2.0 volume: 113.10 tot. weight: 226.19 \n",
      "radius:  3 density: 3.0 volume:  18.85 tot. weight:  56.55 \n",
      "radius:  3 density: 4.0 volume:  28.27 tot. weight: 113.10 \n",
      "radius:  3 density: 5.0 volume: 113.10 tot. weight: 565.49 \n",
      "radius:  3 density: 15.0 volume:  18.85 tot. weight: 282.74 \n",
      "radius:  3 density: 20.0 volume:  28.27 tot. weight: 565.49 \n",
      "radius:  3 density: 30.0 volume: 113.10 tot. weight: 3392.92 \n"
     ]
    }
   ],
   "source": [
    "from math import *\n",
    "densities = {\"Al\":[0.5,1,2],\"Fe\":[3,4,5],\"Pb\": [15,20,30]}\n",
    "radii = [1,2,3]\n",
    "\n",
    "dim = [lambda r: 2*pi*r, lambda r: pi*r**2, lambda r: (4*pi*r**3)/3]\n",
    "\n",
    "for r in radii:\n",
    "    for i in densities:\n",
    "            for x, y in zip(densities[i], dim):\n",
    "                    print( \"radius: %2d density: %2.1f volume: %6.2f tot. weight: %6.2f \"%(r, x, y(r), y(r)*x))\n",
    "    \n"
   ]
  },
  {
   "cell_type": "markdown",
   "metadata": {},
   "source": [
    "6\\. Edit the class defintion to add an instance attribute of is_hungry = True to the Dog class. Then add a method called eat() which changes the value of is_hungry to False when called. Figure out the best way to feed each dog and then output “My dogs are hungry.” if all are hungry or “My dogs are not hungry.” if all are not hungry. The final output should look like this:\n",
    "\n",
    "`I have 3 dogs. \n",
    "Tom is 6. \n",
    "Fletcher is 7. \n",
    "Larry is 9. \n",
    "And they're all mammals, of course. \n",
    "My dogs are not hungry.\n",
    "`\n",
    "\n",
    "```python\n",
    "# Parent class\n",
    "class Dog:\n",
    "\n",
    "    # Class attribute\n",
    "    species = 'mammal'\n",
    "\n",
    "    # Initializer / Instance attributes\n",
    "    def __init__(self, name, age):\n",
    "        self.name = name\n",
    "        self.age = age\n",
    "\n",
    "    # instance method\n",
    "    def description(self):\n",
    "        return \"{} is {} years old\".format(self.name, self.age)\n",
    "\n",
    "    # instance method\n",
    "    def speak(self, sound):\n",
    "        return \"{} says {}\".format(self.name, sound)\n",
    "\n",
    "# Child class (inherits from Dog class)\n",
    "class RussellTerrier(Dog):\n",
    "    def run(self, speed):\n",
    "        return \"{} runs {}\".format(self.name, speed)\n",
    "\n",
    "# Child class (inherits from Dog class)\n",
    "class Bulldog(Dog):\n",
    "    def run(self, speed):\n",
    "        return \"{} runs {}\".format(self.name, speed)\n",
    "```"
   ]
  },
  {
   "cell_type": "code",
   "execution_count": 10,
   "metadata": {},
   "outputs": [],
   "source": [
    "# Parent class\n",
    "class Dog:\n",
    "\n",
    "    # Class attribute\n",
    "    species = 'mammal'\n",
    "\n",
    "    # Initializer / Instance attributes\n",
    "    def __init__(self, name, age):\n",
    "        self.name = name\n",
    "        self.age = age\n",
    "        self.is_hungry = True\n",
    "\n",
    "    # instance method\n",
    "    def description(self):\n",
    "        return \"{} is {} years old.\".format(self.name, self.age)\n",
    "\n",
    "    # instance method\n",
    "    def speak(self, sound):\n",
    "        return \"{} says: {}\".format(self.name, sound)\n",
    "    \n",
    "    # instance method\n",
    "    def eat(self):\n",
    "        self.is_hungry = False \n",
    "\n",
    "# Child class (inherits from Dog class)\n",
    "class RussellTerrier(Dog):\n",
    "    def run(self, speed):\n",
    "        return \"{} runs {}\".format(self.name, speed)\n",
    "\n",
    "# Child class (inherits from Dog class)\n",
    "class Bulldog(Dog):\n",
    "    def run(self, speed):\n",
    "        return \"{} runs {}\".format(self.name, speed)"
   ]
  },
  {
   "cell_type": "code",
   "execution_count": 11,
   "metadata": {},
   "outputs": [
    {
     "name": "stdout",
     "output_type": "stream",
     "text": [
      "Carlo says: I'm hungry!\n",
      "Is Carlo hungry? True Let's feed Carlo...\n",
      "Is Carlo still hungry? False\n",
      "Carlo says: Thank you m8!\n",
      "\n",
      "I have 4 dogs.\n",
      "Carlo is 5 years old.\n",
      "Ernesto is 7 years old.\n",
      "Luca is 3 years old.\n",
      "Francesco is 9 years old.\n",
      "And they're all mammals of course.\n",
      "Your dogs are hungry!\n",
      "Let's feed them!\n",
      "Now your dogs are hungry no more.\n"
     ]
    }
   ],
   "source": [
    "Carlo    = Bulldog(\"Carlo\", 5)\n",
    "Ernesto  = Dog(\"Ernesto\", 7)\n",
    "Luca     = RussellTerrier(\"Luca\", 3)\n",
    "Francesco= Dog(\"Francesco\", 9)\n",
    "\n",
    "print(Carlo.speak(\"I'm hungry!\"))\n",
    "print(\"Is Carlo hungry?\", Carlo.is_hungry, \"Let's feed Carlo...\")\n",
    "Carlo.eat()\n",
    "print(\"Is Carlo still hungry?\", Carlo.is_hungry)\n",
    "print(Carlo.speak(\"Thank you m8!\"))\n",
    "Cani = [Carlo, Ernesto, Luca, Francesco]\n",
    "def feed_all(Dogs):\n",
    "    for pet in Dogs:\n",
    "        pet.eat()\n",
    "def check_hunger(Dogs):\n",
    "    check = False\n",
    "    for pet in Dogs:\n",
    "        if pet.is_hungry == True: check = True\n",
    "    return check\n",
    "\n",
    "print(\"\\nI have%2d dogs.\"%(len(Cani)))\n",
    "for pet in Cani:\n",
    "    print(pet.description())\n",
    "print(\"And they're all \" + Dog.species + \"s of course.\")\n",
    "if check_hunger(Cani) == True: print(\"Your dogs are hungry!\")\n",
    "else: print(\"Your dogs are not hungry\")\n",
    "    \n",
    "print(\"Let's feed them!\")\n",
    "feed_all(Cani)\n",
    "\n",
    "if check_hunger(Cani) == True: print(\"\\nNow your dogs are hungry!\")\n",
    "else: print(\"Now your dogs are hungry no more.\")"
   ]
  }
 ],
 "metadata": {
  "kernelspec": {
   "display_name": "Python 3",
   "language": "python",
   "name": "python3"
  },
  "language_info": {
   "codemirror_mode": {
    "name": "ipython",
    "version": 3
   },
   "file_extension": ".py",
   "mimetype": "text/x-python",
   "name": "python",
   "nbconvert_exporter": "python",
   "pygments_lexer": "ipython3",
   "version": "3.7.4"
  }
 },
 "nbformat": 4,
 "nbformat_minor": 2
}
