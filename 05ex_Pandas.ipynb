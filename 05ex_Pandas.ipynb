{
 "cells": [
  {
   "cell_type": "code",
   "execution_count": 2,
   "metadata": {},
   "outputs": [],
   "source": [
    "from numpy import *"
   ]
  },
  {
   "cell_type": "markdown",
   "metadata": {},
   "source": [
    "## Pandas analysis\n",
    "\n",
    "In the following a series of exercises is proposed on a dataset containg timing information from a series of Time-to-Digital-Converters (TDC) implemented in a couple of FPGA's. Each measurement (i.e. each row) consists of the address of the TDC providing the signal, 'FPGA' and 'TDC_Channel, and the timing information itself, 'ORBIT_CNT', 'BX_COUNTER' and 'TDC_MEAS'. Each TDC count correspond 25/30 ns, whereas the BX_COUNTER feauters gets updated every 25 ns and the ORBIT_CNT every 'x' BX_COUNTER. You can see these way of storing the time as similar to hours, minutes and seconds.\n",
    "\n"
   ]
  },
  {
   "cell_type": "code",
   "execution_count": 14,
   "metadata": {},
   "outputs": [],
   "source": [
    "import matplotlib.pyplot as plt\n",
    "import pandas as pd\n",
    "import numpy as np"
   ]
  },
  {
   "cell_type": "markdown",
   "metadata": {},
   "source": [
    "1\\. Create a Pandas DataFrame by read N rows of the 'data_000637.txt' dataset. Choose N to be smaller than or equal to the maximum number of rows and larger that 10k."
   ]
  },
  {
   "cell_type": "code",
   "execution_count": 15,
   "metadata": {
    "scrolled": false
   },
   "outputs": [
    {
     "data": {
      "text/html": [
       "<div>\n",
       "<style scoped>\n",
       "    .dataframe tbody tr th:only-of-type {\n",
       "        vertical-align: middle;\n",
       "    }\n",
       "\n",
       "    .dataframe tbody tr th {\n",
       "        vertical-align: top;\n",
       "    }\n",
       "\n",
       "    .dataframe thead th {\n",
       "        text-align: right;\n",
       "    }\n",
       "</style>\n",
       "<table border=\"1\" class=\"dataframe\">\n",
       "  <thead>\n",
       "    <tr style=\"text-align: right;\">\n",
       "      <th></th>\n",
       "      <th>HEAD</th>\n",
       "      <th>FPGA</th>\n",
       "      <th>TDC_CHANNEL</th>\n",
       "      <th>ORBIT_CNT</th>\n",
       "      <th>BX_COUNTER</th>\n",
       "      <th>TDC_MEAS</th>\n",
       "    </tr>\n",
       "  </thead>\n",
       "  <tbody>\n",
       "    <tr>\n",
       "      <td>0</td>\n",
       "      <td>1</td>\n",
       "      <td>0</td>\n",
       "      <td>60</td>\n",
       "      <td>3869187117</td>\n",
       "      <td>788</td>\n",
       "      <td>15</td>\n",
       "    </tr>\n",
       "    <tr>\n",
       "      <td>1</td>\n",
       "      <td>1</td>\n",
       "      <td>0</td>\n",
       "      <td>63</td>\n",
       "      <td>3869187117</td>\n",
       "      <td>787</td>\n",
       "      <td>23</td>\n",
       "    </tr>\n",
       "    <tr>\n",
       "      <td>2</td>\n",
       "      <td>1</td>\n",
       "      <td>0</td>\n",
       "      <td>64</td>\n",
       "      <td>3869187117</td>\n",
       "      <td>786</td>\n",
       "      <td>12</td>\n",
       "    </tr>\n",
       "    <tr>\n",
       "      <td>3</td>\n",
       "      <td>1</td>\n",
       "      <td>1</td>\n",
       "      <td>1</td>\n",
       "      <td>3869187117</td>\n",
       "      <td>1078</td>\n",
       "      <td>14</td>\n",
       "    </tr>\n",
       "    <tr>\n",
       "      <td>4</td>\n",
       "      <td>1</td>\n",
       "      <td>0</td>\n",
       "      <td>27</td>\n",
       "      <td>3869187117</td>\n",
       "      <td>1080</td>\n",
       "      <td>9</td>\n",
       "    </tr>\n",
       "    <tr>\n",
       "      <td>...</td>\n",
       "      <td>...</td>\n",
       "      <td>...</td>\n",
       "      <td>...</td>\n",
       "      <td>...</td>\n",
       "      <td>...</td>\n",
       "      <td>...</td>\n",
       "    </tr>\n",
       "    <tr>\n",
       "      <td>1310715</td>\n",
       "      <td>1</td>\n",
       "      <td>1</td>\n",
       "      <td>1</td>\n",
       "      <td>3869200166</td>\n",
       "      <td>3544</td>\n",
       "      <td>7</td>\n",
       "    </tr>\n",
       "    <tr>\n",
       "      <td>1310716</td>\n",
       "      <td>1</td>\n",
       "      <td>0</td>\n",
       "      <td>63</td>\n",
       "      <td>3869200166</td>\n",
       "      <td>3544</td>\n",
       "      <td>23</td>\n",
       "    </tr>\n",
       "    <tr>\n",
       "      <td>1310717</td>\n",
       "      <td>1</td>\n",
       "      <td>0</td>\n",
       "      <td>64</td>\n",
       "      <td>3869200166</td>\n",
       "      <td>3547</td>\n",
       "      <td>11</td>\n",
       "    </tr>\n",
       "    <tr>\n",
       "      <td>1310718</td>\n",
       "      <td>1</td>\n",
       "      <td>1</td>\n",
       "      <td>1</td>\n",
       "      <td>3869200167</td>\n",
       "      <td>204</td>\n",
       "      <td>25</td>\n",
       "    </tr>\n",
       "    <tr>\n",
       "      <td>1310719</td>\n",
       "      <td>1</td>\n",
       "      <td>1</td>\n",
       "      <td>12</td>\n",
       "      <td>3869200167</td>\n",
       "      <td>2362</td>\n",
       "      <td>4</td>\n",
       "    </tr>\n",
       "  </tbody>\n",
       "</table>\n",
       "<p>1310720 rows × 6 columns</p>\n",
       "</div>"
      ],
      "text/plain": [
       "         HEAD  FPGA  TDC_CHANNEL   ORBIT_CNT  BX_COUNTER  TDC_MEAS\n",
       "0           1     0           60  3869187117         788        15\n",
       "1           1     0           63  3869187117         787        23\n",
       "2           1     0           64  3869187117         786        12\n",
       "3           1     1            1  3869187117        1078        14\n",
       "4           1     0           27  3869187117        1080         9\n",
       "...       ...   ...          ...         ...         ...       ...\n",
       "1310715     1     1            1  3869200166        3544         7\n",
       "1310716     1     0           63  3869200166        3544        23\n",
       "1310717     1     0           64  3869200166        3547        11\n",
       "1310718     1     1            1  3869200167         204        25\n",
       "1310719     1     1           12  3869200167        2362         4\n",
       "\n",
       "[1310720 rows x 6 columns]"
      ]
     },
     "execution_count": 15,
     "metadata": {},
     "output_type": "execute_result"
    }
   ],
   "source": [
    "data=pd.read_csv(\"data_000636.csv\")\n",
    "data"
   ]
  },
  {
   "cell_type": "markdown",
   "metadata": {},
   "source": [
    "2\\. Find out the value of 'x'"
   ]
  },
  {
   "cell_type": "code",
   "execution_count": 16,
   "metadata": {},
   "outputs": [
    {
     "data": {
      "text/html": [
       "<div>\n",
       "<style scoped>\n",
       "    .dataframe tbody tr th:only-of-type {\n",
       "        vertical-align: middle;\n",
       "    }\n",
       "\n",
       "    .dataframe tbody tr th {\n",
       "        vertical-align: top;\n",
       "    }\n",
       "\n",
       "    .dataframe thead th {\n",
       "        text-align: right;\n",
       "    }\n",
       "</style>\n",
       "<table border=\"1\" class=\"dataframe\">\n",
       "  <thead>\n",
       "    <tr style=\"text-align: right;\">\n",
       "      <th>col_0</th>\n",
       "      <th>count</th>\n",
       "    </tr>\n",
       "    <tr>\n",
       "      <th>ORBIT_CNT</th>\n",
       "      <th></th>\n",
       "    </tr>\n",
       "  </thead>\n",
       "  <tbody>\n",
       "    <tr>\n",
       "      <td>3869187117</td>\n",
       "      <td>127</td>\n",
       "    </tr>\n",
       "    <tr>\n",
       "      <td>3869187118</td>\n",
       "      <td>69</td>\n",
       "    </tr>\n",
       "    <tr>\n",
       "      <td>3869187119</td>\n",
       "      <td>81</td>\n",
       "    </tr>\n",
       "    <tr>\n",
       "      <td>3869187120</td>\n",
       "      <td>106</td>\n",
       "    </tr>\n",
       "    <tr>\n",
       "      <td>3869187121</td>\n",
       "      <td>124</td>\n",
       "    </tr>\n",
       "    <tr>\n",
       "      <td>...</td>\n",
       "      <td>...</td>\n",
       "    </tr>\n",
       "    <tr>\n",
       "      <td>3869200163</td>\n",
       "      <td>61</td>\n",
       "    </tr>\n",
       "    <tr>\n",
       "      <td>3869200164</td>\n",
       "      <td>113</td>\n",
       "    </tr>\n",
       "    <tr>\n",
       "      <td>3869200165</td>\n",
       "      <td>128</td>\n",
       "    </tr>\n",
       "    <tr>\n",
       "      <td>3869200166</td>\n",
       "      <td>127</td>\n",
       "    </tr>\n",
       "    <tr>\n",
       "      <td>3869200167</td>\n",
       "      <td>2</td>\n",
       "    </tr>\n",
       "  </tbody>\n",
       "</table>\n",
       "<p>13044 rows × 1 columns</p>\n",
       "</div>"
      ],
      "text/plain": [
       "col_0       count\n",
       "ORBIT_CNT        \n",
       "3869187117    127\n",
       "3869187118     69\n",
       "3869187119     81\n",
       "3869187120    106\n",
       "3869187121    124\n",
       "...           ...\n",
       "3869200163     61\n",
       "3869200164    113\n",
       "3869200165    128\n",
       "3869200166    127\n",
       "3869200167      2\n",
       "\n",
       "[13044 rows x 1 columns]"
      ]
     },
     "execution_count": 16,
     "metadata": {},
     "output_type": "execute_result"
    }
   ],
   "source": [
    "pd.crosstab(index=data[\"ORBIT_CNT\"], columns=\"count\")"
   ]
  },
  {
   "cell_type": "code",
   "execution_count": 17,
   "metadata": {},
   "outputs": [
    {
     "name": "stdout",
     "output_type": "stream",
     "text": [
      "Maximum value for BX_COUNTER is: 3563 . Minimum value for BX_COUNTER is: 0\n",
      "1 ORBIT COUNTER is  3564 in unit of BX_COUNTER.\n",
      "\n",
      "Maximum value for TDC_MEAS is: 29 . Minimum value for TDC_MEAS is: 0\n",
      "1 BX_COUNTER is  30 in unit of TDC_MEAS.\n"
     ]
    }
   ],
   "source": [
    "print(\"Maximum value for BX_COUNTER is:\", data[\"BX_COUNTER\"].max(), \". Minimum value for BX_COUNTER is:\", data[\"BX_COUNTER\"].min() )\n",
    "\n",
    "period = data[\"BX_COUNTER\"].max() - data[\"BX_COUNTER\"].min()\n",
    "print(\"1 ORBIT COUNTER is \",(period+1), \"in unit of BX_COUNTER.\")\n",
    "\n",
    "\n",
    "print(\"\\nMaximum value for TDC_MEAS is:\", data[\"TDC_MEAS\"].max(), \". Minimum value for TDC_MEAS is:\", data[\"TDC_MEAS\"].min() )\n",
    "\n",
    "period_MEAS = data[\"TDC_MEAS\"].max() - data[\"TDC_MEAS\"].min()\n",
    "print(\"1 BX_COUNTER is \", period_MEAS+1, \"in unit of TDC_MEAS.\")"
   ]
  },
  {
   "cell_type": "markdown",
   "metadata": {},
   "source": [
    "3\\. Find out how much the data taking lasted. You can either make an estimate on the baseis of the fraction of the measurements (rows) you read, or perform this check precisely by reading out the whole dataset"
   ]
  },
  {
   "cell_type": "code",
   "execution_count": 8,
   "metadata": {},
   "outputs": [
    {
     "name": "stdout",
     "output_type": "stream",
     "text": [
      "Total time for data acquisition is almost, at first approximation: 1162755000 ns\n"
     ]
    }
   ],
   "source": [
    "minimum =  data[\"ORBIT_CNT\"].min()\n",
    "maximum =  data[\"ORBIT_CNT\"].max()\n",
    "total_time = (maximum - minimum)*25*(period+1)\n",
    "\n",
    "print(\"Total time for data acquisition is almost, at first approximation:\", total_time, \"ns\")"
   ]
  },
  {
   "cell_type": "markdown",
   "metadata": {},
   "source": [
    "4\\. Create a new column with the actual time in ns (as a combination of the other three columns with timing information)"
   ]
  },
  {
   "cell_type": "code",
   "execution_count": 9,
   "metadata": {},
   "outputs": [
    {
     "data": {
      "text/html": [
       "<div>\n",
       "<style scoped>\n",
       "    .dataframe tbody tr th:only-of-type {\n",
       "        vertical-align: middle;\n",
       "    }\n",
       "\n",
       "    .dataframe tbody tr th {\n",
       "        vertical-align: top;\n",
       "    }\n",
       "\n",
       "    .dataframe thead th {\n",
       "        text-align: right;\n",
       "    }\n",
       "</style>\n",
       "<table border=\"1\" class=\"dataframe\">\n",
       "  <thead>\n",
       "    <tr style=\"text-align: right;\">\n",
       "      <th></th>\n",
       "      <th>HEAD</th>\n",
       "      <th>FPGA</th>\n",
       "      <th>TDC_CHANNEL</th>\n",
       "      <th>ORBIT_CNT</th>\n",
       "      <th>BX_COUNTER</th>\n",
       "      <th>TDC_MEAS</th>\n",
       "      <th>TIME (ns)</th>\n",
       "    </tr>\n",
       "  </thead>\n",
       "  <tbody>\n",
       "    <tr>\n",
       "      <td>0</td>\n",
       "      <td>1</td>\n",
       "      <td>0</td>\n",
       "      <td>60</td>\n",
       "      <td>3869187117</td>\n",
       "      <td>788</td>\n",
       "      <td>15</td>\n",
       "      <td>0.000000e+00</td>\n",
       "    </tr>\n",
       "    <tr>\n",
       "      <td>1</td>\n",
       "      <td>1</td>\n",
       "      <td>0</td>\n",
       "      <td>63</td>\n",
       "      <td>3869187117</td>\n",
       "      <td>787</td>\n",
       "      <td>23</td>\n",
       "      <td>-1.831250e+01</td>\n",
       "    </tr>\n",
       "    <tr>\n",
       "      <td>2</td>\n",
       "      <td>1</td>\n",
       "      <td>0</td>\n",
       "      <td>64</td>\n",
       "      <td>3869187117</td>\n",
       "      <td>786</td>\n",
       "      <td>12</td>\n",
       "      <td>-5.250000e+01</td>\n",
       "    </tr>\n",
       "    <tr>\n",
       "      <td>3</td>\n",
       "      <td>1</td>\n",
       "      <td>1</td>\n",
       "      <td>1</td>\n",
       "      <td>3869187117</td>\n",
       "      <td>1078</td>\n",
       "      <td>14</td>\n",
       "      <td>7.249188e+03</td>\n",
       "    </tr>\n",
       "    <tr>\n",
       "      <td>4</td>\n",
       "      <td>1</td>\n",
       "      <td>0</td>\n",
       "      <td>27</td>\n",
       "      <td>3869187117</td>\n",
       "      <td>1080</td>\n",
       "      <td>9</td>\n",
       "      <td>7.295000e+03</td>\n",
       "    </tr>\n",
       "    <tr>\n",
       "      <td>...</td>\n",
       "      <td>...</td>\n",
       "      <td>...</td>\n",
       "      <td>...</td>\n",
       "      <td>...</td>\n",
       "      <td>...</td>\n",
       "      <td>...</td>\n",
       "      <td>...</td>\n",
       "    </tr>\n",
       "    <tr>\n",
       "      <td>1310715</td>\n",
       "      <td>1</td>\n",
       "      <td>1</td>\n",
       "      <td>1</td>\n",
       "      <td>3869200166</td>\n",
       "      <td>3544</td>\n",
       "      <td>7</td>\n",
       "      <td>1.162735e+09</td>\n",
       "    </tr>\n",
       "    <tr>\n",
       "      <td>1310716</td>\n",
       "      <td>1</td>\n",
       "      <td>0</td>\n",
       "      <td>63</td>\n",
       "      <td>3869200166</td>\n",
       "      <td>3544</td>\n",
       "      <td>23</td>\n",
       "      <td>1.162735e+09</td>\n",
       "    </tr>\n",
       "    <tr>\n",
       "      <td>1310717</td>\n",
       "      <td>1</td>\n",
       "      <td>0</td>\n",
       "      <td>64</td>\n",
       "      <td>3869200166</td>\n",
       "      <td>3547</td>\n",
       "      <td>11</td>\n",
       "      <td>1.162735e+09</td>\n",
       "    </tr>\n",
       "    <tr>\n",
       "      <td>1310718</td>\n",
       "      <td>1</td>\n",
       "      <td>1</td>\n",
       "      <td>1</td>\n",
       "      <td>3869200167</td>\n",
       "      <td>204</td>\n",
       "      <td>25</td>\n",
       "      <td>1.162740e+09</td>\n",
       "    </tr>\n",
       "    <tr>\n",
       "      <td>1310719</td>\n",
       "      <td>1</td>\n",
       "      <td>1</td>\n",
       "      <td>12</td>\n",
       "      <td>3869200167</td>\n",
       "      <td>2362</td>\n",
       "      <td>4</td>\n",
       "      <td>1.162794e+09</td>\n",
       "    </tr>\n",
       "  </tbody>\n",
       "</table>\n",
       "<p>1310720 rows × 7 columns</p>\n",
       "</div>"
      ],
      "text/plain": [
       "         HEAD  FPGA  TDC_CHANNEL   ORBIT_CNT  BX_COUNTER  TDC_MEAS  \\\n",
       "0           1     0           60  3869187117         788        15   \n",
       "1           1     0           63  3869187117         787        23   \n",
       "2           1     0           64  3869187117         786        12   \n",
       "3           1     1            1  3869187117        1078        14   \n",
       "4           1     0           27  3869187117        1080         9   \n",
       "...       ...   ...          ...         ...         ...       ...   \n",
       "1310715     1     1            1  3869200166        3544         7   \n",
       "1310716     1     0           63  3869200166        3544        23   \n",
       "1310717     1     0           64  3869200166        3547        11   \n",
       "1310718     1     1            1  3869200167         204        25   \n",
       "1310719     1     1           12  3869200167        2362         4   \n",
       "\n",
       "            TIME (ns)  \n",
       "0        0.000000e+00  \n",
       "1       -1.831250e+01  \n",
       "2       -5.250000e+01  \n",
       "3        7.249188e+03  \n",
       "4        7.295000e+03  \n",
       "...               ...  \n",
       "1310715  1.162735e+09  \n",
       "1310716  1.162735e+09  \n",
       "1310717  1.162735e+09  \n",
       "1310718  1.162740e+09  \n",
       "1310719  1.162794e+09  \n",
       "\n",
       "[1310720 rows x 7 columns]"
      ]
     },
     "execution_count": 9,
     "metadata": {},
     "output_type": "execute_result"
    }
   ],
   "source": [
    "data['TIME (ns)'] = data['TDC_MEAS']*(25/30) + data['BX_COUNTER']*25 + ((data[\"ORBIT_CNT\"]))*(period+1)*25\n",
    "\n",
    "offset = data['BX_COUNTER'][0]*25 + data['TDC_MEAS'][0]*(25/30) + data['ORBIT_CNT'][0]*25*(period+1)\n",
    "\n",
    "data['TIME (ns)'] = data['TIME (ns)'] - offset\n",
    "\n",
    "data"
   ]
  },
  {
   "cell_type": "markdown",
   "metadata": {},
   "source": [
    "5\\. Replace the values (all 1) of the HEAD column randomly with 0 or 1\n"
   ]
  },
  {
   "cell_type": "code",
   "execution_count": 10,
   "metadata": {},
   "outputs": [
    {
     "data": {
      "text/html": [
       "<div>\n",
       "<style scoped>\n",
       "    .dataframe tbody tr th:only-of-type {\n",
       "        vertical-align: middle;\n",
       "    }\n",
       "\n",
       "    .dataframe tbody tr th {\n",
       "        vertical-align: top;\n",
       "    }\n",
       "\n",
       "    .dataframe thead th {\n",
       "        text-align: right;\n",
       "    }\n",
       "</style>\n",
       "<table border=\"1\" class=\"dataframe\">\n",
       "  <thead>\n",
       "    <tr style=\"text-align: right;\">\n",
       "      <th>col_0</th>\n",
       "      <th>count</th>\n",
       "    </tr>\n",
       "    <tr>\n",
       "      <th>HEAD</th>\n",
       "      <th></th>\n",
       "    </tr>\n",
       "  </thead>\n",
       "  <tbody>\n",
       "    <tr>\n",
       "      <td>0</td>\n",
       "      <td>655833</td>\n",
       "    </tr>\n",
       "    <tr>\n",
       "      <td>1</td>\n",
       "      <td>654887</td>\n",
       "    </tr>\n",
       "  </tbody>\n",
       "</table>\n",
       "</div>"
      ],
      "text/plain": [
       "col_0   count\n",
       "HEAD         \n",
       "0      655833\n",
       "1      654887"
      ]
     },
     "execution_count": 10,
     "metadata": {},
     "output_type": "execute_result"
    }
   ],
   "source": [
    "data[\"HEAD\"] = np.random.randint(2, size = len(data)) \n",
    "\n",
    "pd.crosstab(index=data[\"HEAD\"], columns=\"count\")"
   ]
  },
  {
   "cell_type": "markdown",
   "metadata": {},
   "source": [
    "6\\. Create a new DataFrame with only the rows with HEAD=1\n"
   ]
  },
  {
   "cell_type": "code",
   "execution_count": 11,
   "metadata": {},
   "outputs": [
    {
     "data": {
      "text/html": [
       "<div>\n",
       "<style scoped>\n",
       "    .dataframe tbody tr th:only-of-type {\n",
       "        vertical-align: middle;\n",
       "    }\n",
       "\n",
       "    .dataframe tbody tr th {\n",
       "        vertical-align: top;\n",
       "    }\n",
       "\n",
       "    .dataframe thead th {\n",
       "        text-align: right;\n",
       "    }\n",
       "</style>\n",
       "<table border=\"1\" class=\"dataframe\">\n",
       "  <thead>\n",
       "    <tr style=\"text-align: right;\">\n",
       "      <th></th>\n",
       "      <th>HEAD</th>\n",
       "      <th>FPGA</th>\n",
       "      <th>TDC_CHANNEL</th>\n",
       "      <th>ORBIT_CNT</th>\n",
       "      <th>BX_COUNTER</th>\n",
       "      <th>TDC_MEAS</th>\n",
       "      <th>TIME (ns)</th>\n",
       "    </tr>\n",
       "  </thead>\n",
       "  <tbody>\n",
       "    <tr>\n",
       "      <td>1</td>\n",
       "      <td>1</td>\n",
       "      <td>0</td>\n",
       "      <td>63</td>\n",
       "      <td>3869187117</td>\n",
       "      <td>787</td>\n",
       "      <td>23</td>\n",
       "      <td>-1.831250e+01</td>\n",
       "    </tr>\n",
       "    <tr>\n",
       "      <td>2</td>\n",
       "      <td>1</td>\n",
       "      <td>0</td>\n",
       "      <td>64</td>\n",
       "      <td>3869187117</td>\n",
       "      <td>786</td>\n",
       "      <td>12</td>\n",
       "      <td>-5.250000e+01</td>\n",
       "    </tr>\n",
       "    <tr>\n",
       "      <td>3</td>\n",
       "      <td>1</td>\n",
       "      <td>1</td>\n",
       "      <td>1</td>\n",
       "      <td>3869187117</td>\n",
       "      <td>1078</td>\n",
       "      <td>14</td>\n",
       "      <td>7.249188e+03</td>\n",
       "    </tr>\n",
       "    <tr>\n",
       "      <td>4</td>\n",
       "      <td>1</td>\n",
       "      <td>0</td>\n",
       "      <td>27</td>\n",
       "      <td>3869187117</td>\n",
       "      <td>1080</td>\n",
       "      <td>9</td>\n",
       "      <td>7.295000e+03</td>\n",
       "    </tr>\n",
       "    <tr>\n",
       "      <td>5</td>\n",
       "      <td>1</td>\n",
       "      <td>0</td>\n",
       "      <td>49</td>\n",
       "      <td>3869187117</td>\n",
       "      <td>1077</td>\n",
       "      <td>3</td>\n",
       "      <td>7.215000e+03</td>\n",
       "    </tr>\n",
       "    <tr>\n",
       "      <td>...</td>\n",
       "      <td>...</td>\n",
       "      <td>...</td>\n",
       "      <td>...</td>\n",
       "      <td>...</td>\n",
       "      <td>...</td>\n",
       "      <td>...</td>\n",
       "      <td>...</td>\n",
       "    </tr>\n",
       "    <tr>\n",
       "      <td>1310710</td>\n",
       "      <td>1</td>\n",
       "      <td>0</td>\n",
       "      <td>60</td>\n",
       "      <td>3869200166</td>\n",
       "      <td>3541</td>\n",
       "      <td>16</td>\n",
       "      <td>1.162735e+09</td>\n",
       "    </tr>\n",
       "    <tr>\n",
       "      <td>1310713</td>\n",
       "      <td>1</td>\n",
       "      <td>1</td>\n",
       "      <td>3</td>\n",
       "      <td>3869200166</td>\n",
       "      <td>3543</td>\n",
       "      <td>18</td>\n",
       "      <td>1.162735e+09</td>\n",
       "    </tr>\n",
       "    <tr>\n",
       "      <td>1310715</td>\n",
       "      <td>1</td>\n",
       "      <td>1</td>\n",
       "      <td>1</td>\n",
       "      <td>3869200166</td>\n",
       "      <td>3544</td>\n",
       "      <td>7</td>\n",
       "      <td>1.162735e+09</td>\n",
       "    </tr>\n",
       "    <tr>\n",
       "      <td>1310717</td>\n",
       "      <td>1</td>\n",
       "      <td>0</td>\n",
       "      <td>64</td>\n",
       "      <td>3869200166</td>\n",
       "      <td>3547</td>\n",
       "      <td>11</td>\n",
       "      <td>1.162735e+09</td>\n",
       "    </tr>\n",
       "    <tr>\n",
       "      <td>1310718</td>\n",
       "      <td>1</td>\n",
       "      <td>1</td>\n",
       "      <td>1</td>\n",
       "      <td>3869200167</td>\n",
       "      <td>204</td>\n",
       "      <td>25</td>\n",
       "      <td>1.162740e+09</td>\n",
       "    </tr>\n",
       "  </tbody>\n",
       "</table>\n",
       "<p>654887 rows × 7 columns</p>\n",
       "</div>"
      ],
      "text/plain": [
       "         HEAD  FPGA  TDC_CHANNEL   ORBIT_CNT  BX_COUNTER  TDC_MEAS  \\\n",
       "1           1     0           63  3869187117         787        23   \n",
       "2           1     0           64  3869187117         786        12   \n",
       "3           1     1            1  3869187117        1078        14   \n",
       "4           1     0           27  3869187117        1080         9   \n",
       "5           1     0           49  3869187117        1077         3   \n",
       "...       ...   ...          ...         ...         ...       ...   \n",
       "1310710     1     0           60  3869200166        3541        16   \n",
       "1310713     1     1            3  3869200166        3543        18   \n",
       "1310715     1     1            1  3869200166        3544         7   \n",
       "1310717     1     0           64  3869200166        3547        11   \n",
       "1310718     1     1            1  3869200167         204        25   \n",
       "\n",
       "            TIME (ns)  \n",
       "1       -1.831250e+01  \n",
       "2       -5.250000e+01  \n",
       "3        7.249188e+03  \n",
       "4        7.295000e+03  \n",
       "5        7.215000e+03  \n",
       "...               ...  \n",
       "1310710  1.162735e+09  \n",
       "1310713  1.162735e+09  \n",
       "1310715  1.162735e+09  \n",
       "1310717  1.162735e+09  \n",
       "1310718  1.162740e+09  \n",
       "\n",
       "[654887 rows x 7 columns]"
      ]
     },
     "execution_count": 11,
     "metadata": {},
     "output_type": "execute_result"
    }
   ],
   "source": [
    "data_parsed = data[data[\"HEAD\"] == 1]\n",
    "\n",
    "data_parsed"
   ]
  },
  {
   "cell_type": "markdown",
   "metadata": {},
   "source": [
    "7\\. Make two occupancy plots (one per FPGA), i.e. plot the number of counts per TDC channel\n"
   ]
  },
  {
   "cell_type": "code",
   "execution_count": 21,
   "metadata": {},
   "outputs": [
    {
     "data": {
      "image/png": "[encoded data removed]",
      "text/plain": [
       "<Figure size 432x288 with 1 Axes>"
      ]
     },
     "metadata": {
      "needs_background": "light"
     },
     "output_type": "display_data"
    }
   ],
   "source": [
    "\n",
    "\n",
    "first_FPGA = data[data[\"FPGA\"] == 0]\n",
    "second_FPGA = data[data[\"FPGA\"] == 1]\n",
    "\n",
    "first_FPGA['TDC_CHANNEL'].plot.hist(bins = 139, title = \"First FPGA count / TDC CHANNEL\")\n",
    "plt.xlabel('TDC_CHANNEL')\n",
    "plt.draw()"
   ]
  },
  {
   "cell_type": "code",
   "execution_count": 22,
   "metadata": {},
   "outputs": [
    {
     "data": {
      "image/png": "[encoded data removed]",
      "text/plain": [
       "<Figure size 432x288 with 1 Axes>"
      ]
     },
     "metadata": {
      "needs_background": "light"
     },
     "output_type": "display_data"
    }
   ],
   "source": [
    "second_FPGA['TDC_CHANNEL'].plot.hist(bins = 139, title = \"Second FPGA count / TDC CHANNEL\")\n",
    "plt.xlabel('TDC_CHANNEL')\n",
    "plt.draw()"
   ]
  },
  {
   "cell_type": "code",
   "execution_count": 25,
   "metadata": {},
   "outputs": [
    {
     "data": {
      "image/png": "[encoded data removed]",
      "text/plain": [
       "<Figure size 432x288 with 1 Axes>"
      ]
     },
     "metadata": {
      "needs_background": "light"
     },
     "output_type": "display_data"
    }
   ],
   "source": [
    "first_FPGA['TDC_CHANNEL'].plot.hist(bins = 139)\n",
    "second_FPGA['TDC_CHANNEL'].plot.hist(bins = 139, title = \"FPGA counts / TDC CHANNEL\")\n",
    "plt.xlabel('TDC_CHANNEL')\n",
    "plt.draw()"
   ]
  },
  {
   "cell_type": "markdown",
   "metadata": {},
   "source": [
    "8\\. Use the groupby method to find out the noisy channels, i.e. the TDC channels with most counts (say the top 3)\n"
   ]
  },
  {
   "cell_type": "code",
   "execution_count": 26,
   "metadata": {},
   "outputs": [
    {
     "data": {
      "text/html": [
       "<div>\n",
       "<style scoped>\n",
       "    .dataframe tbody tr th:only-of-type {\n",
       "        vertical-align: middle;\n",
       "    }\n",
       "\n",
       "    .dataframe tbody tr th {\n",
       "        vertical-align: top;\n",
       "    }\n",
       "\n",
       "    .dataframe thead th {\n",
       "        text-align: right;\n",
       "    }\n",
       "</style>\n",
       "<table border=\"1\" class=\"dataframe\">\n",
       "  <thead>\n",
       "    <tr style=\"text-align: right;\">\n",
       "      <th></th>\n",
       "      <th></th>\n",
       "      <th>HEAD</th>\n",
       "    </tr>\n",
       "    <tr>\n",
       "      <th>FPGA</th>\n",
       "      <th>TDC_CHANNEL</th>\n",
       "      <th></th>\n",
       "    </tr>\n",
       "  </thead>\n",
       "  <tbody>\n",
       "    <tr>\n",
       "      <td rowspan=\"5\" valign=\"top\">0</td>\n",
       "      <td>1</td>\n",
       "      <td>1225</td>\n",
       "    </tr>\n",
       "    <tr>\n",
       "      <td>2</td>\n",
       "      <td>1657</td>\n",
       "    </tr>\n",
       "    <tr>\n",
       "      <td>3</td>\n",
       "      <td>1479</td>\n",
       "    </tr>\n",
       "    <tr>\n",
       "      <td>4</td>\n",
       "      <td>2307</td>\n",
       "    </tr>\n",
       "    <tr>\n",
       "      <td>5</td>\n",
       "      <td>1367</td>\n",
       "    </tr>\n",
       "    <tr>\n",
       "      <td>...</td>\n",
       "      <td>...</td>\n",
       "      <td>...</td>\n",
       "    </tr>\n",
       "    <tr>\n",
       "      <td rowspan=\"5\" valign=\"top\">1</td>\n",
       "      <td>129</td>\n",
       "      <td>34</td>\n",
       "    </tr>\n",
       "    <tr>\n",
       "      <td>130</td>\n",
       "      <td>35</td>\n",
       "    </tr>\n",
       "    <tr>\n",
       "      <td>137</td>\n",
       "      <td>36</td>\n",
       "    </tr>\n",
       "    <tr>\n",
       "      <td>138</td>\n",
       "      <td>34</td>\n",
       "    </tr>\n",
       "    <tr>\n",
       "      <td>139</td>\n",
       "      <td>32459</td>\n",
       "    </tr>\n",
       "  </tbody>\n",
       "</table>\n",
       "<p>255 rows × 1 columns</p>\n",
       "</div>"
      ],
      "text/plain": [
       "                   HEAD\n",
       "FPGA TDC_CHANNEL       \n",
       "0    1             1225\n",
       "     2             1657\n",
       "     3             1479\n",
       "     4             2307\n",
       "     5             1367\n",
       "...                 ...\n",
       "1    129             34\n",
       "     130             35\n",
       "     137             36\n",
       "     138             34\n",
       "     139          32459\n",
       "\n",
       "[255 rows x 1 columns]"
      ]
     },
     "execution_count": 26,
     "metadata": {},
     "output_type": "execute_result"
    }
   ],
   "source": [
    "data_group = data[['HEAD', 'FPGA', 'TDC_CHANNEL']].groupby(['FPGA','TDC_CHANNEL']).sum()\n",
    "data_group"
   ]
  },
  {
   "cell_type": "code",
   "execution_count": 27,
   "metadata": {},
   "outputs": [
    {
     "ename": "SyntaxError",
     "evalue": "invalid syntax (<ipython-input-27-7a7a7f20c6f8>, line 2)",
     "output_type": "error",
     "traceback": [
      "\u001b[1;36m  File \u001b[1;32m\"<ipython-input-27-7a7a7f20c6f8>\"\u001b[1;36m, line \u001b[1;32m2\u001b[0m\n\u001b[1;33m    data_group\u001b[0m\n\u001b[1;37m             ^\u001b[0m\n\u001b[1;31mSyntaxError\u001b[0m\u001b[1;31m:\u001b[0m invalid syntax\n"
     ]
    }
   ],
   "source": [
    "data_group = data_group.sort_values( by = [\"FPGA\", \"HEAD\"] , ascending = False \n",
    "data_group"
   ]
  },
  {
   "cell_type": "code",
   "execution_count": 28,
   "metadata": {},
   "outputs": [
    {
     "name": "stdout",
     "output_type": "stream",
     "text": [
      "For FPGA0 the noisiest bins are  [139, 64, 63]\n",
      "For FPGA1 the noisiest bins are  [139, 2, 1]\n"
     ]
    }
   ],
   "source": [
    "noisy0 = data_group[\"HEAD\"][0].nlargest(3)\n",
    "print(\"For FPGA0 the noisiest bins are \" , list(noisy0.index))\n",
    "\n",
    "noisy1 = data_group[\"HEAD\"][1].nlargest(3)\n",
    "print(\"For FPGA1 the noisiest bins are \" , list(noisy1.index))"
   ]
  },
  {
   "cell_type": "code",
   "execution_count": 55,
   "metadata": {},
   "outputs": [
    {
     "data": {
      "image/png": "[encoded data removed]",
      "text/plain": [
       "<Figure size 432x288 with 2 Axes>"
      ]
     },
     "metadata": {
      "needs_background": "light"
     },
     "output_type": "display_data"
    }
   ],
   "source": [
    "first_FPGA_cleaned = first_FPGA[(first_FPGA[\"TDC_CHANNEL\"] != 139) & (first_FPGA[\"TDC_CHANNEL\"] != 64) & (first_FPGA[\"TDC_CHANNEL\"] != 63)]\n",
    "second_FPGA_cleaned = second_FPGA[(second_FPGA[\"TDC_CHANNEL\"] != 139) & (second_FPGA[\"TDC_CHANNEL\"] != 2) & (second_FPGA[\"TDC_CHANNEL\"] != 1)]\n",
    "\n",
    "plt.subplot(1, 2, 1)\n",
    "first_FPGA['TDC_CHANNEL'].plot.hist(bins = 139)\n",
    "second_FPGA['TDC_CHANNEL'].plot.hist(bins = 139, title = \"FPGA counts / TDC CHANNEL (NOISY)\")\n",
    "plt.xlabel('TDC_CHANNEL')\n",
    "\n",
    "\n",
    "plt.subplot(1, 2, 2)\n",
    "first_FPGA_cleaned['TDC_CHANNEL'].plot.hist(bins = 139)\n",
    "second_FPGA_cleaned['TDC_CHANNEL'].plot.hist(bins = 139, title = \"FPGA counts / TDC CHANNEL (CLEANED)\")\n",
    "plt.xlabel('TDC_CHANNEL')\n",
    "plt.subplots_adjust(left = 2, right = 4)\n",
    "plt.show()"
   ]
  },
  {
   "cell_type": "markdown",
   "metadata": {},
   "source": [
    "9\\. Count the number of unique orbits. \n"
   ]
  },
  {
   "cell_type": "code",
   "execution_count": 56,
   "metadata": {},
   "outputs": [
    {
     "name": "stdout",
     "output_type": "stream",
     "text": [
      "Number of unique orbits is: 13044\n"
     ]
    }
   ],
   "source": [
    "data_temp = data[[\"ORBIT_CNT\", \"TDC_CHANNEL\"]]\n",
    "\n",
    "num_orb = data_temp.groupby('ORBIT_CNT')\n",
    "                                                         \n",
    "print(\"Number of unique orbits is:\", len(num_orb))"
   ]
  },
  {
   "cell_type": "markdown",
   "metadata": {},
   "source": [
    "Count the number of distinct orbits with at least one measurement from TDC_CHANNEL=139"
   ]
  },
  {
   "cell_type": "code",
   "execution_count": 57,
   "metadata": {},
   "outputs": [
    {
     "name": "stdout",
     "output_type": "stream",
     "text": [
      "Number of distinct orbits measured by channel 139: 13019\n",
      "3869187117\n",
      "      ORBIT_CNT  TDC_CHANNEL\n",
      "7    3869187117          139\n",
      "18   3869187117          139\n",
      "27   3869187117          139\n",
      "37   3869187117          139\n",
      "39   3869187117          139\n",
      "68   3869187117          139\n",
      "74   3869187117          139\n",
      "76   3869187117          139\n",
      "80   3869187117          139\n",
      "90   3869187117          139\n",
      "100  3869187117          139\n",
      "102  3869187117          139\n",
      "121  3869187117          139 \n",
      "\n",
      "3869187118\n",
      "      ORBIT_CNT  TDC_CHANNEL\n",
      "135  3869187118          139\n",
      "145  3869187118          139\n",
      "154  3869187118          139\n",
      "160  3869187118          139\n",
      "166  3869187118          139\n",
      "174  3869187118          139\n",
      "185  3869187118          139 \n",
      "\n",
      "3869187119\n",
      "      ORBIT_CNT  TDC_CHANNEL\n",
      "202  3869187119          139\n",
      "213  3869187119          139\n",
      "239  3869187119          139\n",
      "242  3869187119          139\n",
      "245  3869187119          139\n",
      "260  3869187119          139\n",
      "266  3869187119          139\n",
      "273  3869187119          139 \n",
      "\n"
     ]
    }
   ],
   "source": [
    "num_orb_139 = data_temp[data_temp[\"TDC_CHANNEL\"] == 139].groupby('ORBIT_CNT')\n",
    "    \n",
    "print(\"Number of distinct orbits measured by channel 139:\", len(num_orb_139))\n",
    "\n",
    "index = 0\n",
    "\n",
    "for name,group in num_orb_139:\n",
    "    print(name)\n",
    "    print(group, \"\\n\")\n",
    "    index += 1\n",
    "    if index == 3: break"
   ]
  },
  {
   "cell_type": "code",
   "execution_count": null,
   "metadata": {},
   "outputs": [],
   "source": []
  },
  {
   "cell_type": "code",
   "execution_count": null,
   "metadata": {},
   "outputs": [],
   "source": []
  },
  {
   "cell_type": "code",
   "execution_count": null,
   "metadata": {},
   "outputs": [],
   "source": []
  }
 ],
 "metadata": {
  "kernelspec": {
   "display_name": "Python 3",
   "language": "python",
   "name": "python3"
  },
  "language_info": {
   "codemirror_mode": {
    "name": "ipython",
    "version": 3
   },
   "file_extension": ".py",
   "mimetype": "text/x-python",
   "name": "python",
   "nbconvert_exporter": "python",
   "pygments_lexer": "ipython3",
   "version": "3.7.4"
  }
 },
 "nbformat": 4,
 "nbformat_minor": 2
}
