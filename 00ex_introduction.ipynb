{
 "cells": [
  {
   "cell_type": "markdown",
   "metadata": {},
   "source": [
    "1. The MickeyMouse problem\n",
    "\n",
    "a) Write a program that prints the numbers from 1 to 100. But for multiples of three print Mickey instead of the number and for the multiples of five print Mouse. For numbers which are multiples of both three and five print MickeyMouse\n",
    "\n",
    "b) Put the result in a tuple and substitute Mickey with Donald and Mouse with Duck"
   ]
  },
  {
   "cell_type": "code",
   "execution_count": 1,
   "metadata": {},
   "outputs": [],
   "source": [
    "a = [ i for i in range(1,100)]\n",
    "for n,i in enumerate(a):\n",
    "   \n",
    "    if i%3 == 0:\n",
    "        a[n]= 'micky'\n",
    "    if i%5 == 0:\n",
    "        a[n] = 'mouse'\n",
    "    if i%15 == 0:\n",
    "        a[n]= 'mickymouse'"
   ]
  },
  {
   "cell_type": "code",
   "execution_count": 2,
   "metadata": {},
   "outputs": [
    {
     "name": "stdout",
     "output_type": "stream",
     "text": [
      "[1, 2, 'micky', 4, 'mouse', 'micky', 7, 8, 'micky', 'mouse', 11, 'micky', 13, 14, 'mickymouse', 16, 17, 'micky', 19, 'mouse', 'micky', 22, 23, 'micky', 'mouse', 26, 'micky', 28, 29, 'mickymouse', 31, 32, 'micky', 34, 'mouse', 'micky', 37, 38, 'micky', 'mouse', 41, 'micky', 43, 44, 'mickymouse', 46, 47, 'micky', 49, 'mouse', 'micky', 52, 53, 'micky', 'mouse', 56, 'micky', 58, 59, 'mickymouse', 61, 62, 'micky', 64, 'mouse', 'micky', 67, 68, 'micky', 'mouse', 71, 'micky', 73, 74, 'mickymouse', 76, 77, 'micky', 79, 'mouse', 'micky', 82, 83, 'micky', 'mouse', 86, 'micky', 88, 89, 'mickymouse', 91, 92, 'micky', 94, 'mouse', 'micky', 97, 98, 'micky']\n"
     ]
    }
   ],
   "source": [
    "print(a)"
   ]
  },
  {
   "cell_type": "code",
   "execution_count": 3,
   "metadata": {},
   "outputs": [],
   "source": [
    "b=['donald' if x == 'micky' else x for x in a]\n",
    "c=['duck' if x == 'mouse' else x for x in b]"
   ]
  },
  {
   "cell_type": "code",
   "execution_count": 4,
   "metadata": {},
   "outputs": [],
   "source": [
    "A = (a)\n",
    "B = (b)\n",
    "C = (c)"
   ]
  },
  {
   "cell_type": "code",
   "execution_count": 5,
   "metadata": {},
   "outputs": [
    {
     "name": "stdout",
     "output_type": "stream",
     "text": [
      "[1, 2, 'micky', 4, 'mouse', 'micky', 7, 8, 'micky', 'mouse', 11, 'micky', 13, 14, 'mickymouse', 16, 17, 'micky', 19, 'mouse', 'micky', 22, 23, 'micky', 'mouse', 26, 'micky', 28, 29, 'mickymouse', 31, 32, 'micky', 34, 'mouse', 'micky', 37, 38, 'micky', 'mouse', 41, 'micky', 43, 44, 'mickymouse', 46, 47, 'micky', 49, 'mouse', 'micky', 52, 53, 'micky', 'mouse', 56, 'micky', 58, 59, 'mickymouse', 61, 62, 'micky', 64, 'mouse', 'micky', 67, 68, 'micky', 'mouse', 71, 'micky', 73, 74, 'mickymouse', 76, 77, 'micky', 79, 'mouse', 'micky', 82, 83, 'micky', 'mouse', 86, 'micky', 88, 89, 'mickymouse', 91, 92, 'micky', 94, 'mouse', 'micky', 97, 98, 'micky']\n"
     ]
    }
   ],
   "source": [
    "print(A)"
   ]
  },
  {
   "cell_type": "code",
   "execution_count": 6,
   "metadata": {},
   "outputs": [
    {
     "name": "stdout",
     "output_type": "stream",
     "text": [
      "[1, 2, 'donald', 4, 'mouse', 'donald', 7, 8, 'donald', 'mouse', 11, 'donald', 13, 14, 'mickymouse', 16, 17, 'donald', 19, 'mouse', 'donald', 22, 23, 'donald', 'mouse', 26, 'donald', 28, 29, 'mickymouse', 31, 32, 'donald', 34, 'mouse', 'donald', 37, 38, 'donald', 'mouse', 41, 'donald', 43, 44, 'mickymouse', 46, 47, 'donald', 49, 'mouse', 'donald', 52, 53, 'donald', 'mouse', 56, 'donald', 58, 59, 'mickymouse', 61, 62, 'donald', 64, 'mouse', 'donald', 67, 68, 'donald', 'mouse', 71, 'donald', 73, 74, 'mickymouse', 76, 77, 'donald', 79, 'mouse', 'donald', 82, 83, 'donald', 'mouse', 86, 'donald', 88, 89, 'mickymouse', 91, 92, 'donald', 94, 'mouse', 'donald', 97, 98, 'donald']\n"
     ]
    }
   ],
   "source": [
    "print(B)"
   ]
  },
  {
   "cell_type": "code",
   "execution_count": 7,
   "metadata": {},
   "outputs": [
    {
     "name": "stdout",
     "output_type": "stream",
     "text": [
      "[1, 2, 'donald', 4, 'duck', 'donald', 7, 8, 'donald', 'duck', 11, 'donald', 13, 14, 'mickymouse', 16, 17, 'donald', 19, 'duck', 'donald', 22, 23, 'donald', 'duck', 26, 'donald', 28, 29, 'mickymouse', 31, 32, 'donald', 34, 'duck', 'donald', 37, 38, 'donald', 'duck', 41, 'donald', 43, 44, 'mickymouse', 46, 47, 'donald', 49, 'duck', 'donald', 52, 53, 'donald', 'duck', 56, 'donald', 58, 59, 'mickymouse', 61, 62, 'donald', 64, 'duck', 'donald', 67, 68, 'donald', 'duck', 71, 'donald', 73, 74, 'mickymouse', 76, 77, 'donald', 79, 'duck', 'donald', 82, 83, 'donald', 'duck', 86, 'donald', 88, 89, 'mickymouse', 91, 92, 'donald', 94, 'duck', 'donald', 97, 98, 'donald']\n"
     ]
    }
   ],
   "source": [
    "print(C)"
   ]
  },
  {
   "cell_type": "markdown",
   "metadata": {},
   "source": [
    "2\\. The swap function\n",
    "\n",
    "Write a function that swap the values of two input variables x and y (whatever the type). Try to do that also without a temporary variable"
   ]
  },
  {
   "cell_type": "code",
   "execution_count": 8,
   "metadata": {},
   "outputs": [],
   "source": [
    "def F(x,y):\n",
    "    print(y,x)"
   ]
  },
  {
   "cell_type": "code",
   "execution_count": 9,
   "metadata": {},
   "outputs": [
    {
     "name": "stdout",
     "output_type": "stream",
     "text": [
      "80 50\n"
     ]
    }
   ],
   "source": [
    "F(50,80)"
   ]
  },
  {
   "cell_type": "markdown",
   "metadata": {},
   "source": [
    "3\\. Computing the distance\n",
    "\n",
    "Write a function that calculates and returns the euclidean distance between two points *u* and *v*, where *u* and *v* are both 2-tuples *(x,y)*. For example, if *u=(3,0)* and *v=(0,4)*, the function should return 5"
   ]
  },
  {
   "cell_type": "code",
   "execution_count": 10,
   "metadata": {},
   "outputs": [],
   "source": [
    "def Distance(x1,y1,x2,y2):\n",
    "    import math\n",
    "    u = (x1,y1)\n",
    "    v = (x2,y2)\n",
    "    x = abs((x1)-(x2))\n",
    "    y = abs(y1-y2)\n",
    "    d = math.sqrt(((x)**2)+((y)**2))\n",
    "    print(u)\n",
    "    print(v)\n",
    "    print(d)"
   ]
  },
  {
   "cell_type": "code",
   "execution_count": 11,
   "metadata": {},
   "outputs": [
    {
     "name": "stdout",
     "output_type": "stream",
     "text": [
      "(3, 0)\n",
      "(0, 4)\n",
      "5.0\n"
     ]
    }
   ],
   "source": [
    "Distance(3,0,0,4)"
   ]
  },
  {
   "cell_type": "markdown",
   "metadata": {},
   "source": [
    "4\\. Counting letters\n",
    "\n",
    "Write a program to calculate the number of times each character occurs in a given string *s*. Ignore differneces in capitalization"
   ]
  },
  {
   "cell_type": "code",
   "execution_count": 12,
   "metadata": {},
   "outputs": [],
   "source": [
    "s = [ i for i in range(1,100)]\n",
    "for n,i in enumerate(s):\n",
    "   \n",
    "    if i%3 == 0:\n",
    "        s[n]= 'micky'\n",
    "    if i%5 == 0:\n",
    "        s[n] = 'mouse'\n",
    "    if i%15 == 0:\n",
    "        s[n]= 'mickymouse'"
   ]
  },
  {
   "cell_type": "code",
   "execution_count": 13,
   "metadata": {},
   "outputs": [
    {
     "name": "stdout",
     "output_type": "stream",
     "text": [
      "[1, 2, 'micky', 4, 'mouse', 'micky', 7, 8, 'micky', 'mouse', 11, 'micky', 13, 14, 'mickymouse', 16, 17, 'micky', 19, 'mouse', 'micky', 22, 23, 'micky', 'mouse', 26, 'micky', 28, 29, 'mickymouse', 31, 32, 'micky', 34, 'mouse', 'micky', 37, 38, 'micky', 'mouse', 41, 'micky', 43, 44, 'mickymouse', 46, 47, 'micky', 49, 'mouse', 'micky', 52, 53, 'micky', 'mouse', 56, 'micky', 58, 59, 'mickymouse', 61, 62, 'micky', 64, 'mouse', 'micky', 67, 68, 'micky', 'mouse', 71, 'micky', 73, 74, 'mickymouse', 76, 77, 'micky', 79, 'mouse', 'micky', 82, 83, 'micky', 'mouse', 86, 'micky', 88, 89, 'mickymouse', 91, 92, 'micky', 94, 'mouse', 'micky', 97, 98, 'micky']\n"
     ]
    }
   ],
   "source": [
    "print(s)"
   ]
  },
  {
   "cell_type": "code",
   "execution_count": 14,
   "metadata": {},
   "outputs": [],
   "source": [
    "Micky = s.count('micky')\n",
    "Mouse = s.count('mouse')\n",
    "MickyMouse = s.count('mickymouse')"
   ]
  },
  {
   "cell_type": "code",
   "execution_count": 15,
   "metadata": {},
   "outputs": [],
   "source": [
    "s=\"Write a program that prints the numbers from 1 to 100. \\\n",
    "But for multiples of three print Mickey instead of the number and for the multiples of five print Mouse. \\\n",
    "For numbers which are multiples of both three and five print MickeyMouse\""
   ]
  },
  {
   "cell_type": "code",
   "execution_count": 16,
   "metadata": {},
   "outputs": [
    {
     "name": "stdout",
     "output_type": "stream",
     "text": [
      "27\n",
      "13\n",
      "6\n"
     ]
    }
   ],
   "source": [
    "print(Micky)\n",
    "print(Mouse)\n",
    "print(MickyMouse)"
   ]
  },
  {
   "cell_type": "markdown",
   "metadata": {},
   "source": [
    "5\\. Isolating the unique\n",
    "\n",
    "Write a function that determines and count the unique numbers in the list *l*"
   ]
  },
  {
   "cell_type": "code",
   "execution_count": 17,
   "metadata": {},
   "outputs": [],
   "source": [
    "def unique(list1):     \n",
    "    unique_list = []      \n",
    "    \n",
    "    for x in list1:         \n",
    "        if x not in unique_list: \n",
    "            unique_list.append(x)     \n",
    "    for x in unique_list: \n",
    "        print(x)"
   ]
  },
  {
   "cell_type": "code",
   "execution_count": 18,
   "metadata": {},
   "outputs": [],
   "source": [
    "l = [36, 45, 58, 3, 74, 96, 64, 45, 31, 10, 24, 19, 33, 86, 99, 18, 63, 70, 85,\n",
    " 85, 63, 47, 56, 42, 70, 84, 88, 55, 20, 54, 8, 56, 51, 79, 81, 57, 37, 91,\n",
    " 1, 84, 84, 36, 66, 9, 89, 50, 42, 91, 50, 95, 90, 98, 39, 16, 82, 31, 92, 41,\n",
    " 45, 30, 66, 70, 34, 85, 94, 5, 3, 36, 72, 91, 84, 34, 87, 75, 53, 51, 20, 89, 51, 20]"
   ]
  },
  {
   "cell_type": "code",
   "execution_count": 19,
   "metadata": {},
   "outputs": [
    {
     "name": "stdout",
     "output_type": "stream",
     "text": [
      "36\n",
      "45\n",
      "58\n",
      "3\n",
      "74\n",
      "96\n",
      "64\n",
      "31\n",
      "10\n",
      "24\n",
      "19\n",
      "33\n",
      "86\n",
      "99\n",
      "18\n",
      "63\n",
      "70\n",
      "85\n",
      "47\n",
      "56\n",
      "42\n",
      "84\n",
      "88\n",
      "55\n",
      "20\n",
      "54\n",
      "8\n",
      "51\n",
      "79\n",
      "81\n",
      "57\n",
      "37\n",
      "91\n",
      "1\n",
      "66\n",
      "9\n",
      "89\n",
      "50\n",
      "95\n",
      "90\n",
      "98\n",
      "39\n",
      "16\n",
      "82\n",
      "92\n",
      "41\n",
      "30\n",
      "34\n",
      "94\n",
      "5\n",
      "72\n",
      "87\n",
      "75\n",
      "53\n"
     ]
    }
   ],
   "source": [
    "unique(l)"
   ]
  },
  {
   "cell_type": "markdown",
   "metadata": {},
   "source": [
    "6\\. Combination of functions\n",
    "\n",
    "Write two functions - one that returns the square of a number, and one that returns the cube. Now write a third function that returns the number raised to the 6th power using the two previous functions."
   ]
  },
  {
   "cell_type": "code",
   "execution_count": 20,
   "metadata": {},
   "outputs": [],
   "source": [
    "def square(x):\n",
    "    \n",
    "    return x*x\n",
    "\n",
    "def cube(x):\n",
    "    \n",
    "    return x*x*x\n",
    "\n",
    "def seid(x):\n",
    "    \n",
    "    return x*(square(x))*(cube(x))"
   ]
  },
  {
   "cell_type": "markdown",
   "metadata": {},
   "source": [
    "7\\. Cubes\n",
    "\n",
    "Create a list of the cubes of x for x in *[0, 10]* using:\n",
    "\n",
    "a) a for loop\n",
    "\n",
    "b) a list comprehension"
   ]
  },
  {
   "cell_type": "code",
   "execution_count": 21,
   "metadata": {},
   "outputs": [
    {
     "name": "stdout",
     "output_type": "stream",
     "text": [
      "[0, 1, 8, 27, 64, 125, 216, 343, 512, 729, 1000]\n"
     ]
    }
   ],
   "source": [
    "a = [ i for i in range(11)]\n",
    "for n,i in enumerate(a):\n",
    "    a[n] = a[n]**3\n",
    "print(a)"
   ]
  },
  {
   "cell_type": "markdown",
   "metadata": {},
   "source": [
    "8\\. Nested list comprehension\n",
    "\n",
    "A Pythagorean triple is an integer solution to the Pythagorean theorem $a^2+b^2=c^2$. The first Pythagorean triple is (3,4,5). Find and put in a tuple all unique Pythagorean triples for the positive integers a, b and c less than 100."
   ]
  },
  {
   "cell_type": "code",
   "execution_count": 22,
   "metadata": {},
   "outputs": [
    {
     "name": "stdout",
     "output_type": "stream",
     "text": [
      "3 4 5\n",
      "6 8 10\n",
      "9 12 15\n",
      "12 16 20\n",
      "15 20 25\n",
      "18 24 30\n",
      "21 28 35\n",
      "24 32 40\n",
      "27 36 45\n"
     ]
    }
   ],
   "source": [
    "for i in range(1,10): print (3*i,4*i,5*i)"
   ]
  },
  {
   "cell_type": "markdown",
   "metadata": {},
   "source": [
    "9\\. Normalization\n",
    "\n",
    "Write a function that takes a tuple of numbers and returns it with the entries normalized to one"
   ]
  },
  {
   "cell_type": "code",
   "execution_count": 23,
   "metadata": {},
   "outputs": [],
   "source": [
    "def normi(a,b,c,d,e):\n",
    "    s = a+b+c+d+e\n",
    "    \n",
    "    return (a/s,b/s,c/s,d/s,e/s)"
   ]
  },
  {
   "cell_type": "code",
   "execution_count": 24,
   "metadata": {},
   "outputs": [
    {
     "data": {
      "text/plain": [
       "(0.9259259259259259,\n",
       " 0.018518518518518517,\n",
       " 0.018518518518518517,\n",
       " 0.027777777777777776,\n",
       " 0.009259259259259259)"
      ]
     },
     "execution_count": 24,
     "metadata": {},
     "output_type": "execute_result"
    }
   ],
   "source": [
    "normi(100,2,2,3,1)"
   ]
  },
  {
   "cell_type": "code",
   "execution_count": 25,
   "metadata": {},
   "outputs": [
    {
     "data": {
      "text/plain": [
       "1.0"
      ]
     },
     "execution_count": 25,
     "metadata": {},
     "output_type": "execute_result"
    }
   ],
   "source": [
    "0.9259259259259259 + 0.018518518518518517 + 0.018518518518518517 + 0.027777777777777776 + 0.009259259259259259"
   ]
  },
  {
   "cell_type": "code",
   "execution_count": null,
   "metadata": {},
   "outputs": [],
   "source": []
  }
 ],
 "metadata": {
  "kernelspec": {
   "display_name": "Python 3",
   "language": "python",
   "name": "python3"
  },
  "language_info": {
   "codemirror_mode": {
    "name": "ipython",
    "version": 3
   },
   "file_extension": ".py",
   "mimetype": "text/x-python",
   "name": "python",
   "nbconvert_exporter": "python",
   "pygments_lexer": "ipython3",
   "version": "3.7.4"
  }
 },
 "nbformat": 4,
 "nbformat_minor": 2
}
