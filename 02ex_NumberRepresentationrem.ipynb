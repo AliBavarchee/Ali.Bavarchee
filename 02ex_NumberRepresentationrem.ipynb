{
 "cells": [
  {
   "cell_type": "markdown",
   "metadata": {},
   "source": [
    "1\\. Write a function that converts number representation (bin<->dec<->hex)"
   ]
  },
  {
   "cell_type": "code",
   "execution_count": 7,
   "metadata": {},
   "outputs": [],
   "source": [
    "from decimal import *\n",
    "def binna(x):\n",
    "    bin(x)\n",
    "    return print('Binary representation of',x,':',bin(x))\n",
    "def hexxa(x):\n",
    "    hex(x)\n",
    "    return print('Hexadecimal representation of',x,':',hex(x))\n",
    "def dessimal(x):\n",
    "    Decimal(x)\n",
    "    return print('Decimal representation of',x,':',Decimal(x))"
   ]
  },
  {
   "cell_type": "code",
   "execution_count": 13,
   "metadata": {},
   "outputs": [
    {
     "name": "stdout",
     "output_type": "stream",
     "text": [
      "Binary representation of 1203 : 0b10010110011\n",
      "Hexadecimal representation of 777 : 0x309\n",
      "Decimal representation of 1203 : 1203\n",
      "Decimal representation of 777 : 777\n"
     ]
    }
   ],
   "source": [
    "binna(1203)\n",
    "hexxa(777)\n",
    "dessimal(0b10010110011)\n",
    "dessimal(0x309)"
   ]
  },
  {
   "cell_type": "markdown",
   "metadata": {},
   "source": [
    "2\\. Write a function that converts a 32 bit word into a single precision floating point (i.e. interprets the various bits as sign, mantissa and exponent)"
   ]
  },
  {
   "cell_type": "code",
   "execution_count": 5,
   "metadata": {},
   "outputs": [],
   "source": [
    "import struct\n",
    "def funk32bitwordtosingleFP(x):\n",
    "    return struct.unpack(\"f\", struct.pack(\"I\", x))[0]"
   ]
  },
  {
   "cell_type": "code",
   "execution_count": 7,
   "metadata": {},
   "outputs": [
    {
     "data": {
      "text/plain": [
       "1.401298464324817e-42"
      ]
     },
     "execution_count": 7,
     "metadata": {},
     "output_type": "execute_result"
    }
   ],
   "source": [
    "funk32bitwordtosingleFP(1000)"
   ]
  },
  {
   "cell_type": "markdown",
   "metadata": {},
   "source": [
    "3\\. Write a program to determine the underflow and overflow limits (within a factor of 2) for python on your computer. \n",
    "\n",
    "**Tips**: define two variables inizialized to 1 and halve/double them enough time to exceed the under/over-flow limits  "
   ]
  },
  {
   "cell_type": "code",
   "execution_count": 10,
   "metadata": {},
   "outputs": [
    {
     "name": "stdout",
     "output_type": "stream",
     "text": [
      "1.1102230246251565e-16\n"
     ]
    }
   ],
   "source": [
    "import numpy as np\n",
    "import math\n",
    "\n",
    "def onderfloat(func=float):\n",
    "    e = func(1)\n",
    "    while func(1)+func(e) != func(1):\n",
    "        e_smallest = e\n",
    "        e = func(e) / func(2)\n",
    "    return e_smallest\n",
    "\n",
    "sum_f = onderfloat(np.float64)\n",
    "\n",
    "smallest_sum = float(sum_f)\n",
    "print(isinstance(smallest_sum, float))\n",
    "print(smallest_sum)\n",
    "\n"
   ]
  },
  {
   "cell_type": "code",
   "execution_count": 8,
   "metadata": {},
   "outputs": [
    {
     "ename": "IndentationError",
     "evalue": "expected an indented block (<ipython-input-8-07b4765b8387>, line 4)",
     "output_type": "error",
     "traceback": [
      "\u001b[1;36m  File \u001b[1;32m\"<ipython-input-8-07b4765b8387>\"\u001b[1;36m, line \u001b[1;32m4\u001b[0m\n\u001b[1;33m    largest_num = L\u001b[0m\n\u001b[1;37m              ^\u001b[0m\n\u001b[1;31mIndentationError\u001b[0m\u001b[1;31m:\u001b[0m expected an indented block\n"
     ]
    }
   ],
   "source": [
    "def owerfloat(func=float):\n",
    "    L = func(1)\n",
    "    while func(1)+func(e) != func(1):\n",
    "    largest_num = L\n",
    "    L = func(L) * func(2)\n",
    "    return largest_num\n",
    "\n",
    "sum_f = owerfloat(np.float64)\n",
    "\n",
    "largest_num = float(sum_f)\n",
    "print(isinstance(largest_num, float))\n",
    "print(largest_num)"
   ]
  },
  {
   "cell_type": "markdown",
   "metadata": {},
   "source": [
    "4\\. Write a program to determine the machine precision\n",
    "\n",
    "**Tips**: define a new variable by adding a smaller and smaller value (proceeding similarly to prob. 2) to an original variable and check the point where the two are the same "
   ]
  },
  {
   "cell_type": "code",
   "execution_count": 11,
   "metadata": {},
   "outputs": [
    {
     "name": "stdout",
     "output_type": "stream",
     "text": [
      "1.1102230246251565e-16\n"
     ]
    }
   ],
   "source": [
    "n = 2.\n",
    "ind = 0\n",
    "i = 0\n",
    "while( n != ind ):\n",
    "    ind = n + pow(2,-i)\n",
    "    i += 1\n",
    "    \n",
    "print(str(pow(2,-i)))"
   ]
  },
  {
   "cell_type": "markdown",
   "metadata": {},
   "source": [
    "5\\. Write a function that takes in input three parameters $a$, $b$ and $c$ and prints out the two solutions to the quadratic equation $ax^2+bx+c=0$ using the standard formula:\n",
    "$$\n",
    "x=\\frac{-b\\pm\\sqrt{b^2-4ac}}{2a}\n",
    "$$\n",
    "\n",
    "(a) use the program to compute the solution for $a=0.001$, $b=1000$ and $c=0.001$\n",
    "\n",
    "(b) re-express the standard solution formula by multiplying top and bottom by $-b\\mp\\sqrt{b^2-4ac}$ and again find the solution for $a=0.001$, $b=1000$ and $c=0.001$. How does it compare with what previously obtained? Why?\n",
    "\n",
    "(c) write a function that compute the roots of a quadratic equation accurately in all cases"
   ]
  },
  {
   "cell_type": "code",
   "execution_count": 20,
   "metadata": {},
   "outputs": [
    {
     "name": "stdout",
     "output_type": "stream",
     "text": [
      "a) (-9.999894245993346e-07, -999999.999999)\n",
      "b) (-999999.999999, -1.000000000001e-06)\n"
     ]
    }
   ],
   "source": [
    "from math import *\n",
    "def root_1(a,b,c):\n",
    "    x_TOP = (-b + math.sqrt(b**2 - 4*a*c))/(2*a)\n",
    "    x_BOTTOM = (-b - math.sqrt(b**2 - 4*a*c))/(2*a)\n",
    "    return(x_TOP,x_BOTTOM)\n",
    "#a))))))))))))))))))))))))))))))))))))))))))))))))))))))))))))))))))))))))))))))))))))))))))\n",
    "a = 0.001\n",
    "b = 1000\n",
    "c = 0.001\n",
    "print(\"a)\",root_1(a,b,c))\n",
    "#b))))))))))))))))))))))))))))))))))))))))))))))))))))))))))))))))))))))))))))))))))))))))))\n",
    "def root_2(a,b,c):\n",
    "    x1 = (-b - math.sqrt(b**2 - 4*a*c))/(2*a)\n",
    "    x2 = (2*c)/(-b - math.sqrt(b**2-4*a*c))\n",
    "    return(x1, x2)\n",
    "\n",
    "print(\"b)\",root_2(a,b,c))"
   ]
  },
  {
   "cell_type": "markdown",
   "metadata": {},
   "source": [
    "6\\. Write a program that implements the function $f(x)=x(x−1)$\n",
    "\n",
    "(a) Calculate the derivative of the function at the point $x = 1$ using the derivative definition:\n",
    "\n",
    "$$\n",
    "\\frac{{\\rm d}f}{{\\rm d}x} = \\lim_{\\delta\\to0} \\frac{f(x+\\delta)-f(x)}{\\delta}\n",
    "$$\n",
    "\n",
    "with $\\delta = 10^{−2}$. Calculate the true value of the same derivative analytically and compare with the answer your program gives. The two will not agree perfectly. Why not?\n",
    "\n",
    "(b) Repeat the calculation for $\\delta = 10^{−4}, 10^{−6}, 10^{−8}, 10^{−10}, 10^{−12}$ and $10^{−14}$. How does the accuracy scales with $\\delta$?"
   ]
  },
  {
   "cell_type": "code",
   "execution_count": 21,
   "metadata": {},
   "outputs": [
    {
     "name": "stdout",
     "output_type": "stream",
     "text": [
      "1.010000000000001\n"
     ]
    }
   ],
   "source": [
    "def my_func(x):\n",
    "    return(x*(x-1))\n",
    "\n",
    "def derivative(x, d):\n",
    "    return((my_func(x+d)-my_func(x))/(d))  \n",
    "print( derivative(1 , 1e-2) )"
   ]
  },
  {
   "cell_type": "markdown",
   "metadata": {},
   "source": [
    "7\\. Consider the integral of the semicircle of radius 1:\n",
    "$$\n",
    "I=\\int_{-1}^{1} \\sqrt(1-x^2) {\\rm d}x\n",
    "$$\n",
    "which it's known to be $I=\\frac{\\pi}{2}=1.57079632679...$.\n",
    "Alternatively we can use the Riemann definition of the integral:\n",
    "$$\n",
    "I=\\lim_{N\\to\\infty} \\sum_{k=1}^{N} h y_k \n",
    "$$\n",
    "\n",
    "with $h=2/N$ the width of each of the $N$ slices the domain is divided into and where\n",
    "$y_k$ is the value of the function at the $k-$th slice.\n",
    "\n",
    "(a) Write a programe to compute the integral with $N=100$. How does the result compares to the true value?\n",
    "\n",
    "(b) How much can $N$ be increased if the computation needs to be run in less than a second? What is the gain in running it for 1 minute? \n"
   ]
  },
  {
   "cell_type": "code",
   "execution_count": 25,
   "metadata": {},
   "outputs": [
    {
     "name": "stdout",
     "output_type": "stream",
     "text": [
      "1.5691342555492505\n"
     ]
    }
   ],
   "source": [
    "import math\n",
    "\n",
    "def my_func(x):\n",
    "    return( math.sqrt(1-x**2) )\n",
    "\n",
    "def integrall(function, steps):\n",
    "    height = 2/steps\n",
    "    total = 0\n",
    "    for i in range(1, steps):\n",
    "        total += height*function(-1 + i*height)\n",
    "    return(total)\n",
    "I = integrall(my_func,100)\n",
    "print((I))"
   ]
  },
  {
   "cell_type": "code",
   "execution_count": null,
   "metadata": {},
   "outputs": [],
   "source": []
  }
 ],
 "metadata": {
  "kernelspec": {
   "display_name": "Python 3",
   "language": "python",
   "name": "python3"
  },
  "language_info": {
   "codemirror_mode": {
    "name": "ipython",
    "version": 3
   },
   "file_extension": ".py",
   "mimetype": "text/x-python",
   "name": "python",
   "nbconvert_exporter": "python",
   "pygments_lexer": "ipython3",
   "version": "3.7.4"
  }
 },
 "nbformat": 4,
 "nbformat_minor": 2
}
